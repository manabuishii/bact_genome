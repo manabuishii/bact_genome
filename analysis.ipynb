{
 "cells": [
  {
   "cell_type": "markdown",
   "metadata": {},
   "source": [
    "# バクテリアゲノム解析"
   ]
  },
  {
   "cell_type": "markdown",
   "metadata": {},
   "source": [
    "このファイルは bash カーネルを使用しています。bash カーネルをインストールしていない場合は、ターミナルで\n",
    "```\n",
    "pip install bash_kernel\n",
    "python -m bash_kernel.install\n",
    "```\n",
    "を実行した後、再度 Jupyter notebook を起動してください。"
   ]
  },
  {
   "cell_type": "markdown",
   "metadata": {},
   "source": [
    "anaconda or miniconda は既にインストールされているものとします。"
   ]
  },
  {
   "cell_type": "markdown",
   "metadata": {},
   "source": [
    "本ファイルのコマンドを順に実行した場合、カレントディレクトリ以下に解析作業用のフォルダが作られます。（解析教本の本文で示した手順とは異なります）"
   ]
  },
  {
   "cell_type": "markdown",
   "metadata": {},
   "source": [
    "`shift-Enter` を押すと選択中のセルの内容を実行することが可能です。"
   ]
  },
  {
   "cell_type": "markdown",
   "metadata": {},
   "source": [
    "##  解析ツールのインストール"
   ]
  },
  {
   "cell_type": "markdown",
   "metadata": {},
   "source": [
    "### FastQCのインストール"
   ]
  },
  {
   "cell_type": "markdown",
   "metadata": {},
   "source": [
    "インストールの続行確認を省略するため `-y` オプションを指定して実行しています。"
   ]
  },
  {
   "cell_type": "code",
   "execution_count": null,
   "metadata": {},
   "outputs": [],
   "source": [
    "conda install -y -c bioconda fastqc"
   ]
  },
  {
   "cell_type": "code",
   "execution_count": null,
   "metadata": {
    "scrolled": true
   },
   "outputs": [],
   "source": [
    "fastqc -v"
   ]
  },
  {
   "cell_type": "markdown",
   "metadata": {},
   "source": [
    "### fastpのインストール"
   ]
  },
  {
   "cell_type": "code",
   "execution_count": null,
   "metadata": {},
   "outputs": [],
   "source": [
    "conda install -y -c bioconda fastp"
   ]
  },
  {
   "cell_type": "markdown",
   "metadata": {},
   "source": [
    "動作確認のためバージョンを表示"
   ]
  },
  {
   "cell_type": "code",
   "execution_count": null,
   "metadata": {},
   "outputs": [],
   "source": [
    "fastp -v"
   ]
  },
  {
   "cell_type": "markdown",
   "metadata": {},
   "source": [
    "### seqkitのインストール"
   ]
  },
  {
   "cell_type": "code",
   "execution_count": null,
   "metadata": {},
   "outputs": [],
   "source": [
    "conda install -y -c bioconda seqkit"
   ]
  },
  {
   "cell_type": "markdown",
   "metadata": {},
   "source": [
    "動作確認のためバージョンを表示"
   ]
  },
  {
   "cell_type": "code",
   "execution_count": null,
   "metadata": {
    "scrolled": true
   },
   "outputs": [],
   "source": [
    "seqkit version"
   ]
  },
  {
   "cell_type": "markdown",
   "metadata": {},
   "source": [
    "### Platanus_Bのインストール"
   ]
  },
  {
   "cell_type": "markdown",
   "metadata": {},
   "source": [
    "カレントディレクトリに`tools`ディレクトリを作成し、インストールを行います。Platanus_Bは[開発元ウェブサイト](http://platanus.bio.titech.ac.jp/platanus-b)から取得します。"
   ]
  },
  {
   "cell_type": "code",
   "execution_count": null,
   "metadata": {},
   "outputs": [],
   "source": [
    "mkdir tools\n",
    "cd tools\n",
    "curl http://platanus.bio.titech.ac.jp/?ddownload=411 --output platanus_tmp.tar.gz\n",
    "tar xvfz platanus_tmp.tar.gz\n",
    "cp Platanus_B_v1.1.0_190607_macOS_bin/platanus_b ./\n",
    "cp Platanus_B_v1.1.0_190607_macOS_bin/README ./platanus_README\n",
    "rm -rf Platanus_B_v1.1.0_190607_macOS_bin platanus_tmp.tar.gz\n",
    "cd ../"
   ]
  },
  {
   "cell_type": "markdown",
   "metadata": {},
   "source": [
    "tools以下にインストールできたことを確認"
   ]
  },
  {
   "cell_type": "code",
   "execution_count": null,
   "metadata": {},
   "outputs": [],
   "source": [
    "ls -l tools/"
   ]
  },
  {
   "cell_type": "markdown",
   "metadata": {},
   "source": [
    "platanus_bのバージョン番号・ヘルプが表示されることを確認する。"
   ]
  },
  {
   "cell_type": "code",
   "execution_count": null,
   "metadata": {},
   "outputs": [],
   "source": [
    "tools/platanus_b"
   ]
  },
  {
   "cell_type": "markdown",
   "metadata": {},
   "source": [
    "後の操作を簡単にするため環境変数`PATH`に`tools`ディレクトリを追加。  \n",
    "（この操作をJupyter notebook以外から行う場合には、カレントディレクトリの場所によって正しく動作しない場合がありますのでご注意ください）"
   ]
  },
  {
   "cell_type": "code",
   "execution_count": null,
   "metadata": {},
   "outputs": [],
   "source": [
    "export PATH=$PWD/tools:$PATH"
   ]
  },
  {
   "cell_type": "markdown",
   "metadata": {},
   "source": [
    "再度、動作確認を行い、platanus_bのバージョン番号・ヘルプが表示されることを確認する。"
   ]
  },
  {
   "cell_type": "code",
   "execution_count": null,
   "metadata": {},
   "outputs": [],
   "source": [
    "platanus_b"
   ]
  },
  {
   "cell_type": "markdown",
   "metadata": {},
   "source": [
    "## データの入手と前処理"
   ]
  },
  {
   "cell_type": "markdown",
   "metadata": {},
   "source": [
    "以下の手順では、カレントディレクトリに作業フォルダとして`analysis`という名称のディレクトリを作成してディレクトリ内で解析を行います。"
   ]
  },
  {
   "cell_type": "code",
   "execution_count": null,
   "metadata": {
    "scrolled": true
   },
   "outputs": [],
   "source": [
    "mkdir analysis\n",
    "cd analysis\n",
    "pwd"
   ]
  },
  {
   "cell_type": "markdown",
   "metadata": {},
   "source": [
    "`reads`というディレクトリを作り、その中にリード配列のデータを取得します。"
   ]
  },
  {
   "cell_type": "code",
   "execution_count": null,
   "metadata": {},
   "outputs": [],
   "source": [
    "mkdir reads\n",
    "cd reads\n",
    "pwd"
   ]
  },
  {
   "cell_type": "markdown",
   "metadata": {},
   "source": [
    "__テスト用データの取得__"
   ]
  },
  {
   "cell_type": "markdown",
   "metadata": {},
   "source": [
    "ネットワーク環境によっては数分かかります。"
   ]
  },
  {
   "cell_type": "code",
   "execution_count": null,
   "metadata": {},
   "outputs": [],
   "source": [
    "curl -O ftp://ftp.ddbj.nig.ac.jp//ddbj_database/dra/fastq/DRA002/DRA002643/DRX022186/DRR024501_1.fastq.bz2\n",
    "curl -O ftp://ftp.ddbj.nig.ac.jp//ddbj_database/dra/fastq/DRA002/DRA002643/DRX022186/DRR024501_2.fastq.bz2"
   ]
  },
  {
   "cell_type": "markdown",
   "metadata": {},
   "source": [
    "データの展開"
   ]
  },
  {
   "cell_type": "code",
   "execution_count": null,
   "metadata": {},
   "outputs": [],
   "source": [
    "bunzip2 *bz2"
   ]
  },
  {
   "cell_type": "markdown",
   "metadata": {},
   "source": [
    "__取得したデータの確認__"
   ]
  },
  {
   "cell_type": "code",
   "execution_count": null,
   "metadata": {},
   "outputs": [],
   "source": [
    "seqkit stats *fastq"
   ]
  },
  {
   "cell_type": "markdown",
   "metadata": {},
   "source": [
    "__FastQCの実行__"
   ]
  },
  {
   "cell_type": "code",
   "execution_count": null,
   "metadata": {},
   "outputs": [],
   "source": [
    "fastqc *fastq"
   ]
  },
  {
   "cell_type": "markdown",
   "metadata": {},
   "source": [
    "__アダプター配列の除去__"
   ]
  },
  {
   "cell_type": "code",
   "execution_count": null,
   "metadata": {},
   "outputs": [],
   "source": [
    "fastp -i DRR024501_1.fastq -I DRR024501_2.fastq -o DRR024501_1.fastp.fastq -O DRR024501_2.fastp.fastq"
   ]
  },
  {
   "cell_type": "markdown",
   "metadata": {},
   "source": [
    "__再度FastQCを実行__"
   ]
  },
  {
   "cell_type": "code",
   "execution_count": null,
   "metadata": {},
   "outputs": [],
   "source": [
    "fastqc *.fastp.fastq"
   ]
  },
  {
   "cell_type": "markdown",
   "metadata": {},
   "source": [
    "__fastp 処理結果の確認__"
   ]
  },
  {
   "cell_type": "code",
   "execution_count": null,
   "metadata": {},
   "outputs": [],
   "source": [
    "seqkit stats *fastq"
   ]
  },
  {
   "cell_type": "markdown",
   "metadata": {},
   "source": [
    "__データのサブサンプリング__"
   ]
  },
  {
   "cell_type": "markdown",
   "metadata": {},
   "source": [
    "カバレッジが約100xになるよう、全データのうち20%を抽出する。（ゲノムサイズは約2.5Mbpと想定）"
   ]
  },
  {
   "cell_type": "code",
   "execution_count": null,
   "metadata": {},
   "outputs": [],
   "source": [
    "seqkit sample -p 0.2 DRR024501_1.fastp.fastq > DRR024501_1.sampled.fastp.fastq\n",
    "seqkit sample -p 0.2 DRR024501_2.fastp.fastq > DRR024501_2.sampled.fastp.fastq"
   ]
  },
  {
   "cell_type": "markdown",
   "metadata": {},
   "source": [
    "__サブサンプリングしたデータの確認__"
   ]
  },
  {
   "cell_type": "code",
   "execution_count": null,
   "metadata": {},
   "outputs": [],
   "source": [
    "seqkit stats *.sampled.fastp.fastq"
   ]
  },
  {
   "cell_type": "markdown",
   "metadata": {},
   "source": [
    "## アセンブリ"
   ]
  },
  {
   "cell_type": "markdown",
   "metadata": {},
   "source": [
    "ディレクトリの準備  \n",
    "`assembly`という名称で作業ディレクトリを作成する。"
   ]
  },
  {
   "cell_type": "code",
   "execution_count": null,
   "metadata": {},
   "outputs": [],
   "source": [
    "cd ../\n",
    "mkdir assembly\n",
    "cd assembly\n",
    "pwd"
   ]
  },
  {
   "cell_type": "markdown",
   "metadata": {},
   "source": [
    "（確認）リードデータは、一つ上の階層にあるreadsディレクトリに格納されている"
   ]
  },
  {
   "cell_type": "code",
   "execution_count": null,
   "metadata": {},
   "outputs": [],
   "source": [
    "ls -l ../reads/"
   ]
  },
  {
   "cell_type": "markdown",
   "metadata": {},
   "source": [
    "__アセンブリ1 (platanus_b の assemble ステップ)__"
   ]
  },
  {
   "cell_type": "code",
   "execution_count": null,
   "metadata": {},
   "outputs": [],
   "source": [
    "platanus_b assemble -t 2 -f ../reads/DRR024501_1.sampled.fastp.fastq ../reads/DRR024501_2.sampled.fastp.fastq"
   ]
  },
  {
   "cell_type": "markdown",
   "metadata": {},
   "source": [
    "上記コマンドが正しく実行できない場合、`tools`ディレクトリに`PATH`が通っていること、および、\n",
    "```\n",
    "ls ../reads/DRR024501_1.sampled.fastp.fastq ../reads/DRR024501_2.sampled.fastp.fastq\n",
    "```\n",
    "を実行してみて`reads`ディレクトリにファイルが存在していることを確認すること。"
   ]
  },
  {
   "cell_type": "markdown",
   "metadata": {},
   "source": [
    "アセンブリ結果 (out_contig.fa) の確認"
   ]
  },
  {
   "cell_type": "code",
   "execution_count": null,
   "metadata": {},
   "outputs": [],
   "source": [
    "seqkit stats -a -G N out_contig.fa"
   ]
  },
  {
   "cell_type": "markdown",
   "metadata": {},
   "source": [
    "__アセンブリ2 (platanus_b の iterate ステップ)__"
   ]
  },
  {
   "cell_type": "markdown",
   "metadata": {},
   "source": [
    "実行には数10分程度かかる。"
   ]
  },
  {
   "cell_type": "code",
   "execution_count": null,
   "metadata": {},
   "outputs": [],
   "source": [
    "platanus_b iterate -t 2 -c out_contig.fa -IP1 ../reads/DRR024501_1.sampled.fastp.fastq ../reads/DRR024501_2.sampled.fastp.fastq"
   ]
  },
  {
   "cell_type": "markdown",
   "metadata": {},
   "source": [
    "アセンブリ結果 (out_iterativeAssembly.fa) の確認"
   ]
  },
  {
   "cell_type": "code",
   "execution_count": null,
   "metadata": {},
   "outputs": [],
   "source": [
    "seqkit stats -a -G N out_iterativeAssembly.fa"
   ]
  },
  {
   "cell_type": "markdown",
   "metadata": {},
   "source": [
    "## アノテーション"
   ]
  },
  {
   "cell_type": "markdown",
   "metadata": {},
   "source": [
    "本文ではアセンブリ結果ファイル (out_iterativeAssembly.fa) を [DFAST ウェブサービス](https://dfast.nig.ac.jp) にアップロードしてアノテーションを行っています。  \n",
    "本文執筆後、DFAST のローカル版が bioconda でインストールできるようになったため、下記ではローカル版のインストールおよび利用方法を紹介します。\n"
   ]
  },
  {
   "cell_type": "markdown",
   "metadata": {},
   "source": [
    "### DFAST ローカル版のインストール"
   ]
  },
  {
   "cell_type": "markdown",
   "metadata": {},
   "source": [
    "インストール時に参照データベースファイルの取得等を行うため、ネットワーク環境によっては数分〜10分程度かかります。"
   ]
  },
  {
   "cell_type": "code",
   "execution_count": null,
   "metadata": {},
   "outputs": [],
   "source": [
    "conda install -y -c bioconda dfast"
   ]
  },
  {
   "cell_type": "markdown",
   "metadata": {},
   "source": [
    "動作確認"
   ]
  },
  {
   "cell_type": "code",
   "execution_count": null,
   "metadata": {},
   "outputs": [],
   "source": [
    "dfast --version"
   ]
  },
  {
   "cell_type": "markdown",
   "metadata": {},
   "source": [
    "### DFASTの実行"
   ]
  },
  {
   "cell_type": "markdown",
   "metadata": {},
   "source": [
    "初回実行時には参照データベースファイルの indexing を行うため時間がかかる。二回目以降は実行時間が短縮される。"
   ]
  },
  {
   "cell_type": "code",
   "execution_count": null,
   "metadata": {},
   "outputs": [],
   "source": [
    "dfast --genome out_iterativeAssembly.fa"
   ]
  },
  {
   "cell_type": "markdown",
   "metadata": {},
   "source": [
    "結果ファイルは `OUT` ディレクトリ内に出力される。出力ファイルには、\n",
    "- genome.gbk (GenBank 形式のアノテーション結果ファイル)\n",
    "- genome.gff (GFF 形式のアノテーション結果ファイル)\n",
    "- protein.faa (FASTA 形式のアノテーションされた遺伝子のアミノ酸配列ファイル)\n",
    "- cds.fna (FASTA 形式のアノテーションされた遺伝子の CDS 塩基配列ファイル)\n",
    "\n",
    "などが含まれる。"
   ]
  },
  {
   "cell_type": "markdown",
   "metadata": {},
   "source": [
    "詳細な使用方法はヘルプ `dfast -h` や、[公式サイト](https://github.com/nigyta/dfast_core)のドキュメントをご参照ください。"
   ]
  }
 ],
 "metadata": {
  "kernelspec": {
   "display_name": "Bash",
   "language": "bash",
   "name": "bash"
  },
  "language_info": {
   "codemirror_mode": "shell",
   "file_extension": ".sh",
   "mimetype": "text/x-sh",
   "name": "bash"
  }
 },
 "nbformat": 4,
 "nbformat_minor": 2
}
